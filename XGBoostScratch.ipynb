{
 "cells": [
  {
   "cell_type": "markdown",
   "metadata": {},
   "source": [
    "## XGBoost using Numpy (from scratch)"
   ]
  },
  {
   "cell_type": "markdown",
   "metadata": {},
   "source": [
    "#### The following code is a simple XGBoost model developed using numpy.\n",
    "Tha main purpose of this code is to unveil the maths behind XGBoost."
   ]
  },
  {
   "cell_type": "code",
   "execution_count": 85,
   "metadata": {},
   "outputs": [],
   "source": [
    "import numpy as np\n",
    "import pandas as pd\n",
    "import matplotlib.pyplot as plt\n",
    "%matplotlib inline"
   ]
  },
  {
   "cell_type": "markdown",
   "metadata": {},
   "source": [
    "##### Consider the following data where the years of experience is predictor variable and salary is the target."
   ]
  },
  {
   "cell_type": "code",
   "execution_count": 86,
   "metadata": {},
   "outputs": [],
   "source": [
    "year = [5,7,12,23,25,28,29,34,35,40]\n",
    "salary = [82,80,103,118,172,127,204,189,99,166]"
   ]
  },
  {
   "cell_type": "markdown",
   "metadata": {},
   "source": [
    "##### Using regression trees as base learners, we can create a model to predict the salary. \n",
    "For the sake of simplicity, we can choose square loss as our loss function and our objective would be to minimize the square error.\n",
    "##### As the first step, the model should be initialized with a function F0(x). F0(x) should be a function which minimizes the loss function or MSE (mean squared error)\n",
    "##### For MSE the Function F minimizes at mean\n",
    "##### If we had taken MAE , the function would have minimized at median\n"
   ]
  },
  {
   "cell_type": "code",
   "execution_count": 87,
   "metadata": {},
   "outputs": [
    {
     "data": {
      "text/html": [
       "<div>\n",
       "<style scoped>\n",
       "    .dataframe tbody tr th:only-of-type {\n",
       "        vertical-align: middle;\n",
       "    }\n",
       "\n",
       "    .dataframe tbody tr th {\n",
       "        vertical-align: top;\n",
       "    }\n",
       "\n",
       "    .dataframe thead th {\n",
       "        text-align: right;\n",
       "    }\n",
       "</style>\n",
       "<table border=\"1\" class=\"dataframe\">\n",
       "  <thead>\n",
       "    <tr style=\"text-align: right;\">\n",
       "      <th></th>\n",
       "      <th>Years</th>\n",
       "      <th>Salary</th>\n",
       "    </tr>\n",
       "  </thead>\n",
       "  <tbody>\n",
       "    <tr>\n",
       "      <th>0</th>\n",
       "      <td>5</td>\n",
       "      <td>82</td>\n",
       "    </tr>\n",
       "    <tr>\n",
       "      <th>1</th>\n",
       "      <td>7</td>\n",
       "      <td>80</td>\n",
       "    </tr>\n",
       "    <tr>\n",
       "      <th>2</th>\n",
       "      <td>12</td>\n",
       "      <td>103</td>\n",
       "    </tr>\n",
       "    <tr>\n",
       "      <th>3</th>\n",
       "      <td>23</td>\n",
       "      <td>118</td>\n",
       "    </tr>\n",
       "    <tr>\n",
       "      <th>4</th>\n",
       "      <td>25</td>\n",
       "      <td>172</td>\n",
       "    </tr>\n",
       "  </tbody>\n",
       "</table>\n",
       "</div>"
      ],
      "text/plain": [
       "   Years  Salary\n",
       "0      5      82\n",
       "1      7      80\n",
       "2     12     103\n",
       "3     23     118\n",
       "4     25     172"
      ]
     },
     "execution_count": 87,
     "metadata": {},
     "output_type": "execute_result"
    }
   ],
   "source": [
    "df = pd.DataFrame(columns=['Years','Salary'])\n",
    "df.Years = year\n",
    "df.Salary = salary\n",
    "df.head()"
   ]
  },
  {
   "cell_type": "code",
   "execution_count": 88,
   "metadata": {},
   "outputs": [
    {
     "data": {
      "text/plain": [
       "<matplotlib.collections.PathCollection at 0x7feb21a29320>"
      ]
     },
     "execution_count": 88,
     "metadata": {},
     "output_type": "execute_result"
    },
    {
     "data": {
      "image/png": "[encoded data removed]",
      "text/plain": [
       "<Figure size 432x288 with 1 Axes>"
      ]
     },
     "metadata": {
      "needs_background": "light"
     },
     "output_type": "display_data"
    }
   ],
   "source": [
    "plt.scatter(x=df.Years,y=df.Salary)"
   ]
  },
  {
   "cell_type": "markdown",
   "metadata": {},
   "source": [
    "#### The residual is the difference between y and f0 i.e. (y-f0)\n",
    "##### We can use the residuals from F0(x) to create h1(x). h1(x) will be a regression tree which will try and reduce the residuals from the previous step. The output of h1(x) won’t be a prediction of y; instead, it will help in predicting the successive function F1(x) which will bring down the residuals."
   ]
  },
  {
   "cell_type": "code",
   "execution_count": 89,
   "metadata": {},
   "outputs": [],
   "source": [
    "df1 = df"
   ]
  },
  {
   "cell_type": "markdown",
   "metadata": {},
   "source": [
    "The additive model h1(x) computes the mean of the residuals (y – F0) at each leaf of the tree. "
   ]
  },
  {
   "cell_type": "markdown",
   "metadata": {},
   "source": [
    "A split is done and the mean of upper part and lower part is calculated \n",
    "Here , I have selected a random split point"
   ]
  },
  {
   "cell_type": "code",
   "execution_count": 91,
   "metadata": {},
   "outputs": [
    {
     "data": {
      "text/html": [
       "<div>\n",
       "<style scoped>\n",
       "    .dataframe tbody tr th:only-of-type {\n",
       "        vertical-align: middle;\n",
       "    }\n",
       "\n",
       "    .dataframe tbody tr th {\n",
       "        vertical-align: top;\n",
       "    }\n",
       "\n",
       "    .dataframe thead th {\n",
       "        text-align: right;\n",
       "    }\n",
       "</style>\n",
       "<table border=\"1\" class=\"dataframe\">\n",
       "  <thead>\n",
       "    <tr style=\"text-align: right;\">\n",
       "      <th></th>\n",
       "      <th>Years</th>\n",
       "      <th>Salary</th>\n",
       "      <th>f0</th>\n",
       "      <th>y-f0</th>\n",
       "      <th>h1</th>\n",
       "      <th>f1</th>\n",
       "      <th>y-f1</th>\n",
       "      <th>h2</th>\n",
       "    </tr>\n",
       "  </thead>\n",
       "  <tbody>\n",
       "    <tr>\n",
       "      <th>0</th>\n",
       "      <td>5</td>\n",
       "      <td>82</td>\n",
       "      <td>134.0</td>\n",
       "      <td>-52.0</td>\n",
       "      <td>0.0</td>\n",
       "      <td>134.0</td>\n",
       "      <td>-52.0</td>\n",
       "      <td>-45.666667</td>\n",
       "    </tr>\n",
       "    <tr>\n",
       "      <th>1</th>\n",
       "      <td>7</td>\n",
       "      <td>80</td>\n",
       "      <td>134.0</td>\n",
       "      <td>-54.0</td>\n",
       "      <td>0.0</td>\n",
       "      <td>134.0</td>\n",
       "      <td>-54.0</td>\n",
       "      <td>-45.666667</td>\n",
       "    </tr>\n",
       "    <tr>\n",
       "      <th>2</th>\n",
       "      <td>12</td>\n",
       "      <td>103</td>\n",
       "      <td>134.0</td>\n",
       "      <td>-31.0</td>\n",
       "      <td>0.0</td>\n",
       "      <td>134.0</td>\n",
       "      <td>-31.0</td>\n",
       "      <td>-45.666667</td>\n",
       "    </tr>\n",
       "    <tr>\n",
       "      <th>3</th>\n",
       "      <td>23</td>\n",
       "      <td>118</td>\n",
       "      <td>134.0</td>\n",
       "      <td>-16.0</td>\n",
       "      <td>0.0</td>\n",
       "      <td>134.0</td>\n",
       "      <td>-16.0</td>\n",
       "      <td>19.571429</td>\n",
       "    </tr>\n",
       "    <tr>\n",
       "      <th>4</th>\n",
       "      <td>25</td>\n",
       "      <td>172</td>\n",
       "      <td>134.0</td>\n",
       "      <td>38.0</td>\n",
       "      <td>0.0</td>\n",
       "      <td>134.0</td>\n",
       "      <td>38.0</td>\n",
       "      <td>19.571429</td>\n",
       "    </tr>\n",
       "  </tbody>\n",
       "</table>\n",
       "</div>"
      ],
      "text/plain": [
       "   Years  Salary     f0  y-f0   h1     f1  y-f1         h2\n",
       "0      5      82  134.0 -52.0  0.0  134.0 -52.0 -45.666667\n",
       "1      7      80  134.0 -54.0  0.0  134.0 -54.0 -45.666667\n",
       "2     12     103  134.0 -31.0  0.0  134.0 -31.0 -45.666667\n",
       "3     23     118  134.0 -16.0  0.0  134.0 -16.0  19.571429\n",
       "4     25     172  134.0  38.0  0.0  134.0  38.0  19.571429"
      ]
     },
     "execution_count": 91,
     "metadata": {},
     "output_type": "execute_result"
    }
   ],
   "source": [
    "for i in range(2):\n",
    "    f = df.Salary.mean()\n",
    "    if(i>0):\n",
    "        df['f'+str(i)] = df['f'+str(i-1)] + df['h'+str(i)]\n",
    "    else:\n",
    "        df['f'+str(i)] = f\n",
    "    df['y-f'+str(i)] = df.Salary - df['f'+str(i)]\n",
    "    splitIndex = np.random.randint(0,df.shape[0]-1)\n",
    "    a= []\n",
    "    h_upper = df['y-f'+str(i)][0:splitIndex].mean()\n",
    "    h_bottom = df['y-f'+str(i)][splitIndex:].mean()\n",
    "    for j in range(splitIndex):\n",
    "        a.append(h_upper)\n",
    "    for j in range(df.shape[0]-splitIndex):\n",
    "        a.append(h_bottom)\n",
    "    df['h'+str(i+1)] = a\n",
    "    \n",
    "df.head()\n"
   ]
  },
  {
   "cell_type": "markdown",
   "metadata": {},
   "source": [
    "#### This is how the dataset looks after 2 iterations"
   ]
  },
  {
   "cell_type": "markdown",
   "metadata": {},
   "source": [
    "If we continue to iterate for 100 times , we can see the Loss of MSE(Fi) decreasing by a huge margin"
   ]
  },
  {
   "cell_type": "code",
   "execution_count": 92,
   "metadata": {},
   "outputs": [
    {
     "data": {
      "text/html": [
       "<div>\n",
       "<style scoped>\n",
       "    .dataframe tbody tr th:only-of-type {\n",
       "        vertical-align: middle;\n",
       "    }\n",
       "\n",
       "    .dataframe tbody tr th {\n",
       "        vertical-align: top;\n",
       "    }\n",
       "\n",
       "    .dataframe thead th {\n",
       "        text-align: right;\n",
       "    }\n",
       "</style>\n",
       "<table border=\"1\" class=\"dataframe\">\n",
       "  <thead>\n",
       "    <tr style=\"text-align: right;\">\n",
       "      <th></th>\n",
       "      <th>Years</th>\n",
       "      <th>Salary</th>\n",
       "      <th>f0</th>\n",
       "      <th>y-f0</th>\n",
       "      <th>h1</th>\n",
       "      <th>f1</th>\n",
       "      <th>y-f1</th>\n",
       "      <th>h2</th>\n",
       "      <th>f2</th>\n",
       "      <th>y-f2</th>\n",
       "      <th>...</th>\n",
       "      <th>h97</th>\n",
       "      <th>f97</th>\n",
       "      <th>y-f97</th>\n",
       "      <th>h98</th>\n",
       "      <th>f98</th>\n",
       "      <th>y-f98</th>\n",
       "      <th>h99</th>\n",
       "      <th>f99</th>\n",
       "      <th>y-f99</th>\n",
       "      <th>h100</th>\n",
       "    </tr>\n",
       "  </thead>\n",
       "  <tbody>\n",
       "    <tr>\n",
       "      <th>0</th>\n",
       "      <td>5</td>\n",
       "      <td>82</td>\n",
       "      <td>134.0</td>\n",
       "      <td>-52.0</td>\n",
       "      <td>-45.666667</td>\n",
       "      <td>88.333333</td>\n",
       "      <td>-6.333333</td>\n",
       "      <td>-9.473903e-15</td>\n",
       "      <td>88.333333</td>\n",
       "      <td>-6.333333</td>\n",
       "      <td>...</td>\n",
       "      <td>1.776357e-15</td>\n",
       "      <td>85.594638</td>\n",
       "      <td>-3.594638</td>\n",
       "      <td>-3.083745</td>\n",
       "      <td>82.510894</td>\n",
       "      <td>-0.510894</td>\n",
       "      <td>0.387978</td>\n",
       "      <td>82.898871</td>\n",
       "      <td>-0.898871</td>\n",
       "      <td>-0.898871</td>\n",
       "    </tr>\n",
       "    <tr>\n",
       "      <th>1</th>\n",
       "      <td>7</td>\n",
       "      <td>80</td>\n",
       "      <td>134.0</td>\n",
       "      <td>-54.0</td>\n",
       "      <td>-45.666667</td>\n",
       "      <td>88.333333</td>\n",
       "      <td>-8.333333</td>\n",
       "      <td>-9.473903e-15</td>\n",
       "      <td>88.333333</td>\n",
       "      <td>-8.333333</td>\n",
       "      <td>...</td>\n",
       "      <td>1.776357e-15</td>\n",
       "      <td>84.605788</td>\n",
       "      <td>-4.605788</td>\n",
       "      <td>-3.083745</td>\n",
       "      <td>81.522043</td>\n",
       "      <td>-1.522043</td>\n",
       "      <td>0.387978</td>\n",
       "      <td>81.910021</td>\n",
       "      <td>-1.910021</td>\n",
       "      <td>0.099875</td>\n",
       "    </tr>\n",
       "    <tr>\n",
       "      <th>2</th>\n",
       "      <td>12</td>\n",
       "      <td>103</td>\n",
       "      <td>134.0</td>\n",
       "      <td>-31.0</td>\n",
       "      <td>-45.666667</td>\n",
       "      <td>88.333333</td>\n",
       "      <td>14.666667</td>\n",
       "      <td>-9.473903e-15</td>\n",
       "      <td>88.333333</td>\n",
       "      <td>14.666667</td>\n",
       "      <td>...</td>\n",
       "      <td>1.776357e-15</td>\n",
       "      <td>97.285360</td>\n",
       "      <td>5.714640</td>\n",
       "      <td>-3.083745</td>\n",
       "      <td>94.201615</td>\n",
       "      <td>8.798385</td>\n",
       "      <td>0.387978</td>\n",
       "      <td>94.589593</td>\n",
       "      <td>8.410407</td>\n",
       "      <td>0.099875</td>\n",
       "    </tr>\n",
       "    <tr>\n",
       "      <th>3</th>\n",
       "      <td>23</td>\n",
       "      <td>118</td>\n",
       "      <td>134.0</td>\n",
       "      <td>-16.0</td>\n",
       "      <td>19.571429</td>\n",
       "      <td>153.571429</td>\n",
       "      <td>-35.571429</td>\n",
       "      <td>-1.218073e-14</td>\n",
       "      <td>153.571429</td>\n",
       "      <td>-35.571429</td>\n",
       "      <td>...</td>\n",
       "      <td>1.776357e-15</td>\n",
       "      <td>127.849193</td>\n",
       "      <td>-9.849193</td>\n",
       "      <td>-3.083745</td>\n",
       "      <td>124.765448</td>\n",
       "      <td>-6.765448</td>\n",
       "      <td>0.387978</td>\n",
       "      <td>125.153425</td>\n",
       "      <td>-7.153425</td>\n",
       "      <td>0.099875</td>\n",
       "    </tr>\n",
       "    <tr>\n",
       "      <th>4</th>\n",
       "      <td>25</td>\n",
       "      <td>172</td>\n",
       "      <td>134.0</td>\n",
       "      <td>38.0</td>\n",
       "      <td>19.571429</td>\n",
       "      <td>153.571429</td>\n",
       "      <td>18.428571</td>\n",
       "      <td>-1.218073e-14</td>\n",
       "      <td>153.571429</td>\n",
       "      <td>18.428571</td>\n",
       "      <td>...</td>\n",
       "      <td>1.776357e-15</td>\n",
       "      <td>157.370016</td>\n",
       "      <td>14.629984</td>\n",
       "      <td>2.055830</td>\n",
       "      <td>159.425846</td>\n",
       "      <td>12.574154</td>\n",
       "      <td>0.387978</td>\n",
       "      <td>159.813823</td>\n",
       "      <td>12.186177</td>\n",
       "      <td>0.099875</td>\n",
       "    </tr>\n",
       "  </tbody>\n",
       "</table>\n",
       "<p>5 rows × 302 columns</p>\n",
       "</div>"
      ],
      "text/plain": [
       "   Years  Salary     f0  y-f0         h1          f1       y-f1            h2  \\\n",
       "0      5      82  134.0 -52.0 -45.666667   88.333333  -6.333333 -9.473903e-15   \n",
       "1      7      80  134.0 -54.0 -45.666667   88.333333  -8.333333 -9.473903e-15   \n",
       "2     12     103  134.0 -31.0 -45.666667   88.333333  14.666667 -9.473903e-15   \n",
       "3     23     118  134.0 -16.0  19.571429  153.571429 -35.571429 -1.218073e-14   \n",
       "4     25     172  134.0  38.0  19.571429  153.571429  18.428571 -1.218073e-14   \n",
       "\n",
       "           f2       y-f2  ...           h97         f97      y-f97       h98  \\\n",
       "0   88.333333  -6.333333  ...  1.776357e-15   85.594638  -3.594638 -3.083745   \n",
       "1   88.333333  -8.333333  ...  1.776357e-15   84.605788  -4.605788 -3.083745   \n",
       "2   88.333333  14.666667  ...  1.776357e-15   97.285360   5.714640 -3.083745   \n",
       "3  153.571429 -35.571429  ...  1.776357e-15  127.849193  -9.849193 -3.083745   \n",
       "4  153.571429  18.428571  ...  1.776357e-15  157.370016  14.629984  2.055830   \n",
       "\n",
       "          f98      y-f98       h99         f99      y-f99      h100  \n",
       "0   82.510894  -0.510894  0.387978   82.898871  -0.898871 -0.898871  \n",
       "1   81.522043  -1.522043  0.387978   81.910021  -1.910021  0.099875  \n",
       "2   94.201615   8.798385  0.387978   94.589593   8.410407  0.099875  \n",
       "3  124.765448  -6.765448  0.387978  125.153425  -7.153425  0.099875  \n",
       "4  159.425846  12.574154  0.387978  159.813823  12.186177  0.099875  \n",
       "\n",
       "[5 rows x 302 columns]"
      ]
     },
     "execution_count": 92,
     "metadata": {},
     "output_type": "execute_result"
    }
   ],
   "source": [
    "for i in range(100):\n",
    "    f = df.Salary.mean()\n",
    "    if(i>0):\n",
    "        df['f'+str(i)] = df['f'+str(i-1)] + df['h'+str(i)]\n",
    "    else:\n",
    "        df['f'+str(i)] = f\n",
    "    df['y-f'+str(i)] = df.Salary - df['f'+str(i)]\n",
    "    splitIndex = np.random.randint(0,df.shape[0]-1)\n",
    "    a= []\n",
    "    h_upper = df['y-f'+str(i)][0:splitIndex].mean()\n",
    "    h_bottom = df['y-f'+str(i)][splitIndex:].mean()\n",
    "    for j in range(splitIndex):\n",
    "        a.append(h_upper)\n",
    "    for j in range(df.shape[0]-splitIndex):\n",
    "        a.append(h_bottom)\n",
    "    df['h'+str(i+1)] = a\n",
    "    \n",
    "df.head()\n"
   ]
  },
  {
   "cell_type": "markdown",
   "metadata": {},
   "source": [
    "#### Following is the graph for Iteration 1 , 10 and 99\n",
    "#### We can see the loss decreasing and the model adapting to the dataset as the iteration increases"
   ]
  },
  {
   "cell_type": "code",
   "execution_count": 94,
   "metadata": {},
   "outputs": [
    {
     "data": {
      "text/plain": [
       "<matplotlib.legend.Legend at 0x7feb22099be0>"
      ]
     },
     "execution_count": 94,
     "metadata": {},
     "output_type": "execute_result"
    },
    {
     "data": {
      "image/png": "[encoded data removed]",
      "text/plain": [
       "<Figure size 1080x720 with 1 Axes>"
      ]
     },
     "metadata": {
      "needs_background": "light"
     },
     "output_type": "display_data"
    }
   ],
   "source": [
    "plt.figure(figsize=(15,10))\n",
    "plt.scatter(df.Years,df.Salary)\n",
    "plt.plot(df.Years,df.f1,label = 'f1')\n",
    "plt.plot(df.Years,df.f10,label = 'f10')\n",
    "plt.plot(df.Years,df.f99,label = 'f99')\n",
    "plt.legend()"
   ]
  },
  {
   "cell_type": "markdown",
   "metadata": {},
   "source": [
    "#                                               END"
   ]
  },
  {
   "cell_type": "code",
   "execution_count": null,
   "metadata": {},
   "outputs": [],
   "source": []
  }
 ],
 "metadata": {
  "kernelspec": {
   "display_name": "Python 3",
   "language": "python",
   "name": "python3"
  },
  "language_info": {
   "codemirror_mode": {
    "name": "ipython",
    "version": 3
   },
   "file_extension": ".py",
   "mimetype": "text/x-python",
   "name": "python",
   "nbconvert_exporter": "python",
   "pygments_lexer": "ipython3",
   "version": "3.6.7"
  }
 },
 "nbformat": 4,
 "nbformat_minor": 2
}
